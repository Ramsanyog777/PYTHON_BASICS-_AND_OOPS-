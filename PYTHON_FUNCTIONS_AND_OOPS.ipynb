{
  "nbformat": 4,
  "nbformat_minor": 0,
  "metadata": {
    "colab": {
      "provenance": []
    },
    "kernelspec": {
      "name": "python3",
      "display_name": "Python 3"
    },
    "language_info": {
      "name": "python"
    }
  },
  "cells": [
    {
      "cell_type": "markdown",
      "source": [
        "# Good Morning Guys let's wait for everyone to join the session we will start the session by 7:10 AM"
      ],
      "metadata": {
        "id": "hafs2aiWuYbo"
      }
    },
    {
      "cell_type": "markdown",
      "source": [
        "# Functions"
      ],
      "metadata": {
        "id": "OQ5nx1D9x04U"
      }
    },
    {
      "cell_type": "markdown",
      "source": [
        "A function in python is a reusable block of code that performs specific task.\n",
        "\n",
        "It take inputs process them , and return output\n",
        "\n",
        "functions help in code reusability , modularity and readibility."
      ],
      "metadata": {
        "id": "N4lWpyNax8Xm"
      }
    },
    {
      "cell_type": "code",
      "execution_count": null,
      "metadata": {
        "colab": {
          "base_uri": "https://localhost:8080/"
        },
        "id": "YjJeq9MsuWw3",
        "outputId": "49b38246-beda-477f-bf3e-997d5755ffd0"
      },
      "outputs": [
        {
          "output_type": "stream",
          "name": "stdout",
          "text": [
            "30\n"
          ]
        }
      ],
      "source": [
        "a = 10\n",
        "b = 20\n",
        "\n",
        "sum = a + b\n",
        "print(sum)"
      ]
    },
    {
      "cell_type": "code",
      "source": [
        "a = 24\n",
        "b = 21\n",
        "\n",
        "sum = a + b\n",
        "print(sum)"
      ],
      "metadata": {
        "colab": {
          "base_uri": "https://localhost:8080/"
        },
        "id": "DDb8o819yWZH",
        "outputId": "63fd9a9d-a20f-49c9-860f-4f010e6ea450"
      },
      "execution_count": null,
      "outputs": [
        {
          "output_type": "stream",
          "name": "stdout",
          "text": [
            "45\n"
          ]
        }
      ]
    },
    {
      "cell_type": "code",
      "source": [
        "a = 30\n",
        "b = 40\n",
        "\n",
        "sum = a + b\n",
        "print(sum)"
      ],
      "metadata": {
        "colab": {
          "base_uri": "https://localhost:8080/"
        },
        "id": "_KID5eheyf0g",
        "outputId": "5a85eeb3-a805-4eb1-c292-a481cfe919b7"
      },
      "execution_count": null,
      "outputs": [
        {
          "output_type": "stream",
          "name": "stdout",
          "text": [
            "70\n"
          ]
        }
      ]
    },
    {
      "cell_type": "code",
      "source": [
        "# def function_name(parameters/variables):\n",
        "#   # code block\n",
        "#   return value # optional"
      ],
      "metadata": {
        "id": "uTewdNGUylxF"
      },
      "execution_count": null,
      "outputs": []
    },
    {
      "cell_type": "code",
      "source": [
        "def addition(a,b):\n",
        "  sum = a + b\n",
        "  print(f\"sum is {sum}\")"
      ],
      "metadata": {
        "id": "pK2AMZrGzKYq"
      },
      "execution_count": null,
      "outputs": []
    },
    {
      "cell_type": "code",
      "source": [
        "# to use this function we need to call this function\n",
        "addition(10,20)"
      ],
      "metadata": {
        "colab": {
          "base_uri": "https://localhost:8080/"
        },
        "id": "wUMrzoTnzXPR",
        "outputId": "cd2ae071-076c-4f9e-cb84-122b3238532d"
      },
      "execution_count": null,
      "outputs": [
        {
          "output_type": "stream",
          "name": "stdout",
          "text": [
            "sum is 30\n"
          ]
        }
      ]
    },
    {
      "cell_type": "code",
      "source": [
        "addition(12,32)"
      ],
      "metadata": {
        "colab": {
          "base_uri": "https://localhost:8080/"
        },
        "id": "hY7RjzJKzfEC",
        "outputId": "c021a08d-6da9-432e-a43f-0c68719b5655"
      },
      "execution_count": null,
      "outputs": [
        {
          "output_type": "stream",
          "name": "stdout",
          "text": [
            "sum is 44\n"
          ]
        }
      ]
    },
    {
      "cell_type": "code",
      "source": [
        "def add(a,b):\n",
        "  sum = a + b\n",
        "  return a + b  # return - send the result back\n",
        "\n",
        "# use return when you need the function's result for further perocessing"
      ],
      "metadata": {
        "id": "L7102CkFz-ym"
      },
      "execution_count": null,
      "outputs": []
    },
    {
      "cell_type": "code",
      "source": [
        "result = add(3,5)\n",
        "print(result) # we control when to print the output"
      ],
      "metadata": {
        "colab": {
          "base_uri": "https://localhost:8080/"
        },
        "id": "8VgC4IZC0P-H",
        "outputId": "352d18b6-10c7-482b-9b07-ffb255d3fff3"
      },
      "execution_count": null,
      "outputs": [
        {
          "output_type": "stream",
          "name": "stdout",
          "text": [
            "8\n"
          ]
        }
      ]
    },
    {
      "cell_type": "code",
      "source": [
        "def add(a,b):\n",
        "  print(a+b)  # Just prints, doesn't return"
      ],
      "metadata": {
        "id": "on8xsoP70Vh5"
      },
      "execution_count": null,
      "outputs": []
    },
    {
      "cell_type": "code",
      "source": [
        "result = add(3,5) # prints 8 but stores None\n",
        "print(result)\n",
        "\n",
        "# use print when you just want to display the output without needing to use it later"
      ],
      "metadata": {
        "colab": {
          "base_uri": "https://localhost:8080/"
        },
        "id": "mRLwLWpm0luX",
        "outputId": "eeaee5fc-2d0a-4a22-8c8c-55cdf524163a"
      },
      "execution_count": null,
      "outputs": [
        {
          "output_type": "stream",
          "name": "stdout",
          "text": [
            "8\n",
            "None\n"
          ]
        }
      ]
    },
    {
      "cell_type": "code",
      "source": [
        "def multiplication(a,b,c):\n",
        "  mul = a * b * c\n",
        "  return mul"
      ],
      "metadata": {
        "id": "Fc1oSzav0q1T"
      },
      "execution_count": null,
      "outputs": []
    },
    {
      "cell_type": "code",
      "source": [
        "multiplication(12,34,21)"
      ],
      "metadata": {
        "colab": {
          "base_uri": "https://localhost:8080/"
        },
        "id": "obIZPp9b3Kam",
        "outputId": "c13db8b9-a522-43fb-9b82-0869bbcea206"
      },
      "execution_count": null,
      "outputs": [
        {
          "output_type": "execute_result",
          "data": {
            "text/plain": [
              "8568"
            ]
          },
          "metadata": {},
          "execution_count": 21
        }
      ]
    },
    {
      "cell_type": "code",
      "source": [
        "def greet():\n",
        "  name = input(\"Enter yout name:\") # taking input from user\n",
        "  return name"
      ],
      "metadata": {
        "id": "rJMlpNZI3Nak"
      },
      "execution_count": null,
      "outputs": []
    },
    {
      "cell_type": "code",
      "source": [
        "user_name=greet()"
      ],
      "metadata": {
        "colab": {
          "base_uri": "https://localhost:8080/"
        },
        "id": "s9gB7kog3l_J",
        "outputId": "bd98a02f-0df7-498e-8204-0631efc74bfa"
      },
      "execution_count": null,
      "outputs": [
        {
          "name": "stdout",
          "output_type": "stream",
          "text": [
            "Enter yout name:Ram\n"
          ]
        }
      ]
    },
    {
      "cell_type": "code",
      "source": [
        "print(f\"hello {user_name}\")"
      ],
      "metadata": {
        "colab": {
          "base_uri": "https://localhost:8080/"
        },
        "id": "bbUwj1Ik3nZ2",
        "outputId": "b4d85577-7882-456e-e779-6ecf80df8944"
      },
      "execution_count": null,
      "outputs": [
        {
          "output_type": "stream",
          "name": "stdout",
          "text": [
            "hello Ram\n"
          ]
        }
      ]
    },
    {
      "cell_type": "code",
      "source": [
        "# def greet():\n",
        "#   name = input(\"Enter yout name:\") # taking input from user\n",
        "#   print(\"hello\",name)"
      ],
      "metadata": {
        "id": "TF5SdGmC4O4k"
      },
      "execution_count": null,
      "outputs": []
    },
    {
      "cell_type": "code",
      "source": [
        "# greet()"
      ],
      "metadata": {
        "colab": {
          "base_uri": "https://localhost:8080/"
        },
        "id": "HQw7IBrg4kxY",
        "outputId": "1e8e59f8-d713-40c3-c868-11939afa2ebc"
      },
      "execution_count": null,
      "outputs": [
        {
          "output_type": "stream",
          "name": "stdout",
          "text": [
            "Enter yout name:sujay\n",
            "hello sujay\n"
          ]
        }
      ]
    },
    {
      "cell_type": "code",
      "source": [
        "# print(),input(),len(),upper(),lower()- pre built function in python\n",
        "\n",
        "# addition(),multiplication(),greet() - user defined functions created by using def keyword"
      ],
      "metadata": {
        "id": "YZA-wHc34lih"
      },
      "execution_count": null,
      "outputs": []
    },
    {
      "cell_type": "markdown",
      "source": [
        "# OOPS - Object Oriented Programming"
      ],
      "metadata": {
        "id": "lO7sIWAr7gFu"
      }
    },
    {
      "cell_type": "markdown",
      "source": [
        "oops is a fundamental concept in python , that empower developers to build modular , maintainable , scalable applications"
      ],
      "metadata": {
        "id": "XA_-Rmy7_Ga0"
      }
    },
    {
      "cell_type": "markdown",
      "source": [
        "the core principle of oops are classes , objects , inheritance , encapsulation , polymorphism and abstraction"
      ],
      "metadata": {
        "id": "2jlQJghF_QWK"
      }
    },
    {
      "cell_type": "code",
      "source": [
        "# track the record of 100 dogs each dog is of different age or breed\n",
        "\n",
        "dict1 = {'dog1':['labra',12],'dog2':['buldog',13]}\n",
        "\n",
        "# It take a lot of time\n",
        "# It is difficult to maintain\n",
        "# It takes lot of space\n",
        "# It lacks structure"
      ],
      "metadata": {
        "id": "BFkio8o57HSv"
      },
      "execution_count": null,
      "outputs": []
    },
    {
      "cell_type": "markdown",
      "source": [
        "# class\n",
        "\n",
        "* A class is a collection of object\n",
        "* A class contains the blueprint or prototype fron which the objects are being created\n",
        "* these are the properties of class car brand , model , year of the car\n",
        "* A class consist of methods (member functions inside the class) and attributes (variables inside the class)\n",
        "\n",
        "* example -> It defines the general structure and behaviour of a car but it doesn't actually represent a car\n"
      ],
      "metadata": {
        "id": "QmwFt7x7AbwM"
      }
    },
    {
      "cell_type": "code",
      "source": [],
      "metadata": {
        "id": "pTMd_Hk9Db5_"
      },
      "execution_count": null,
      "outputs": []
    },
    {
      "cell_type": "markdown",
      "source": [
        "# Objects\n",
        "\n",
        "* objects are entities which has a state and behaviour associated with it\n",
        "\n",
        "* state - the attributes (or properties) of an object that define its current condition\n",
        "\n",
        "* behavior - The methods or functions that define what an object can do\n",
        "\n",
        "* An object is like an actual car that you can see and use. you can have multiple cars (objects) they are created using the same blueprint(class)\n",
        "\n",
        "* example - class - car - brand , year,country\n",
        "* objects - bmw , 1992,germany\n",
        "* objects - audi , 1945,usa"
      ],
      "metadata": {
        "id": "urhlOepmCsZC"
      }
    },
    {
      "cell_type": "code",
      "source": [
        "# create a class\n",
        "# self is a connector that connects my methods to the objects\n",
        "class Car:\n",
        "  def display(self):\n",
        "    print(f\"my car is {self.name}, year : {self.year},country : {self.country} \")"
      ],
      "metadata": {
        "id": "tsiC20UoATi9"
      },
      "execution_count": null,
      "outputs": []
    },
    {
      "cell_type": "code",
      "source": [
        "# create a object\n",
        "obj = Car()"
      ],
      "metadata": {
        "id": "WQUEAvDxETs-"
      },
      "execution_count": null,
      "outputs": []
    },
    {
      "cell_type": "code",
      "source": [
        "# Manually assigning the attributes to the objects\n",
        "obj.name = \"BMW\"\n",
        "obj.year = 1992\n",
        "obj.country = \"Germany\"\n"
      ],
      "metadata": {
        "id": "3uN_tGHKEp7W"
      },
      "execution_count": null,
      "outputs": []
    },
    {
      "cell_type": "code",
      "source": [
        "obj.display()"
      ],
      "metadata": {
        "colab": {
          "base_uri": "https://localhost:8080/"
        },
        "id": "unvAngn9Fs5O",
        "outputId": "12bbac22-9df5-403b-c76c-9cefef308461"
      },
      "execution_count": null,
      "outputs": [
        {
          "output_type": "stream",
          "name": "stdout",
          "text": [
            "my car is BMW, year : 1992,country : Germany \n"
          ]
        }
      ]
    },
    {
      "cell_type": "code",
      "source": [
        "obj1 = Car()"
      ],
      "metadata": {
        "id": "yVBXxNKGHqSX"
      },
      "execution_count": null,
      "outputs": []
    },
    {
      "cell_type": "code",
      "source": [
        "# Manually assigning the attributes to the objects\n",
        "obj1.name = \"Audi\"\n",
        "obj1.year = 1945\n",
        "obj1.country = \"USA\"\n"
      ],
      "metadata": {
        "id": "EAj8XPP8HtV3"
      },
      "execution_count": null,
      "outputs": []
    },
    {
      "cell_type": "code",
      "source": [
        "obj1.display()"
      ],
      "metadata": {
        "colab": {
          "base_uri": "https://localhost:8080/"
        },
        "id": "7Irdanj0Hyom",
        "outputId": "62aac353-7d89-49d5-d3a2-34260b7b49e8"
      },
      "execution_count": null,
      "outputs": [
        {
          "output_type": "stream",
          "name": "stdout",
          "text": [
            "my car is Audi, year : 1945,country : USA \n"
          ]
        }
      ]
    },
    {
      "cell_type": "markdown",
      "source": [
        "# constructor\n",
        "\n",
        "It is a special method __init__ used to intialize the object's attributes when a class is instantiated. It allows to set up intial values for an object's properties automatically when the object is created"
      ],
      "metadata": {
        "id": "vzMr1rguGZV7"
      }
    },
    {
      "cell_type": "code",
      "source": [
        "class Car:\n",
        "  def __init__(self,name,year,country):\n",
        "    self.name = name\n",
        "    self.year = year\n",
        "    self.country = country\n",
        "\n",
        "  def display(self):\n",
        "    print(f\"my car is {self.name}, year : {self.year},country : {self.country} \")"
      ],
      "metadata": {
        "id": "RXg6J-BlGD1M"
      },
      "execution_count": null,
      "outputs": []
    },
    {
      "cell_type": "code",
      "source": [
        "car1 = Car(\"BMW\",1992,\"Germany\")"
      ],
      "metadata": {
        "id": "VtQ9TskLHAdU"
      },
      "execution_count": null,
      "outputs": []
    },
    {
      "cell_type": "code",
      "source": [
        "car1.display()"
      ],
      "metadata": {
        "colab": {
          "base_uri": "https://localhost:8080/"
        },
        "id": "cLfuO0oQHGbD",
        "outputId": "911420ee-c023-4da7-99f0-85be97913189"
      },
      "execution_count": null,
      "outputs": [
        {
          "output_type": "stream",
          "name": "stdout",
          "text": [
            "my car is BMW, year : 1992,country : Germany \n"
          ]
        }
      ]
    },
    {
      "cell_type": "code",
      "source": [
        "car2 = Car(\"Audi\",1945,\"USA\")"
      ],
      "metadata": {
        "id": "4E02RYE6HJBB"
      },
      "execution_count": null,
      "outputs": []
    },
    {
      "cell_type": "code",
      "source": [
        "car2.display()"
      ],
      "metadata": {
        "colab": {
          "base_uri": "https://localhost:8080/"
        },
        "id": "YQHCAvWNHiBe",
        "outputId": "76eef55d-7866-4606-e8dd-9a8146e94d68"
      },
      "execution_count": null,
      "outputs": [
        {
          "output_type": "stream",
          "name": "stdout",
          "text": [
            "my car is Audi, year : 1945,country : USA \n"
          ]
        }
      ]
    },
    {
      "cell_type": "code",
      "source": [
        "class Dog:\n",
        "  def __init__(self,breed,age):\n",
        "    self.breed = breed\n",
        "    self.age = age\n",
        "\n",
        "  def display(self):\n",
        "    print(f\"breed : {self.breed}, age : {self.age} \")"
      ],
      "metadata": {
        "id": "qOqhB4UkHkny"
      },
      "execution_count": null,
      "outputs": []
    },
    {
      "cell_type": "code",
      "source": [
        "dog1 = Dog(\"husky\",2)"
      ],
      "metadata": {
        "id": "HGD2yh6UI8Be"
      },
      "execution_count": null,
      "outputs": []
    },
    {
      "cell_type": "code",
      "source": [
        "dog1.display()"
      ],
      "metadata": {
        "colab": {
          "base_uri": "https://localhost:8080/"
        },
        "id": "rHF7PRrcJGYH",
        "outputId": "3ec15b09-4d79-49e2-d309-bf2ce9110c21"
      },
      "execution_count": null,
      "outputs": [
        {
          "output_type": "stream",
          "name": "stdout",
          "text": [
            "breed : husky, age : 2 \n"
          ]
        }
      ]
    },
    {
      "cell_type": "code",
      "source": [
        "dog2 = Dog(\"golden retriever\",4)"
      ],
      "metadata": {
        "id": "GW8Fth0YJJOc"
      },
      "execution_count": null,
      "outputs": []
    },
    {
      "cell_type": "code",
      "source": [
        "dog2.display()"
      ],
      "metadata": {
        "colab": {
          "base_uri": "https://localhost:8080/"
        },
        "id": "AZgvaa70JNKe",
        "outputId": "0635e417-b8fa-4543-a37b-4dca23103467"
      },
      "execution_count": null,
      "outputs": [
        {
          "output_type": "stream",
          "name": "stdout",
          "text": [
            "breed : golden retriever, age : 4 \n"
          ]
        }
      ]
    },
    {
      "cell_type": "markdown",
      "source": [
        "# Inheritance\n",
        "\n"
      ],
      "metadata": {
        "id": "3wDbYVWi8tV2"
      }
    },
    {
      "cell_type": "markdown",
      "source": [
        "* Inherits the data members from one class to another class\n",
        "\n",
        "* It allows a class (child / subclass) to inherit properties and behaviors (attributes and methods ) from another clas (parent class / super class)"
      ],
      "metadata": {
        "id": "tDamNslC9B5k"
      }
    },
    {
      "cell_type": "markdown",
      "source": [],
      "metadata": {
        "id": "pvUHDXrTgHXB"
      }
    },
    {
      "cell_type": "code",
      "source": [
        "# single inheritance : one parent class -------one child class\n",
        "\n",
        "class Parent:\n",
        "  def __init__(self):\n",
        "    self.name = \"Fatima\"\n",
        "\n",
        "class Child(Parent):  # It can access the name attribute defined in the parent class\n",
        "  def __init__(self):\n",
        "    super().__init__()  # calling parent's constructor\n",
        "\n",
        "  def display(self):\n",
        "    print(self.name)"
      ],
      "metadata": {
        "id": "IC69g1nSJPA-"
      },
      "execution_count": null,
      "outputs": []
    },
    {
      "cell_type": "code",
      "source": [
        "c1 = Child()\n",
        "c1.display()"
      ],
      "metadata": {
        "colab": {
          "base_uri": "https://localhost:8080/"
        },
        "id": "80-Xz821-Ol1",
        "outputId": "b5ddef2f-4322-4493-b60c-35ddf54a30f1"
      },
      "execution_count": null,
      "outputs": [
        {
          "output_type": "stream",
          "name": "stdout",
          "text": [
            "Fatima\n"
          ]
        }
      ]
    },
    {
      "cell_type": "code",
      "source": [
        "class parent:\n",
        "  def eyes(self):  # method of parent class\n",
        "    print(\"parent has blue eyes\")\n",
        "\n",
        "class child(parent):  # inheritance\n",
        "  def eyes(self):  # method of child class\n",
        "    #super().eyes()  # calling the parent's method here\n",
        "    parent.eyes(self)\n",
        "    print(\"child has blue and green eyes\") # task of the child class"
      ],
      "metadata": {
        "id": "bl3MFtXG-S8E"
      },
      "execution_count": null,
      "outputs": []
    },
    {
      "cell_type": "code",
      "source": [
        "c1 = child()  # c1 is the child class object"
      ],
      "metadata": {
        "id": "SpAnwsOj_mBQ"
      },
      "execution_count": null,
      "outputs": []
    },
    {
      "cell_type": "code",
      "source": [
        "c1.eyes()  # calling the method inside the child class"
      ],
      "metadata": {
        "colab": {
          "base_uri": "https://localhost:8080/"
        },
        "id": "1FWcoHJb_pZs",
        "outputId": "9072ae50-dd84-4fd2-fa4c-d2f4357ff58b"
      },
      "execution_count": null,
      "outputs": [
        {
          "output_type": "stream",
          "name": "stdout",
          "text": [
            "parent has blue eyes\n",
            "child has blue and green eyes\n"
          ]
        }
      ]
    },
    {
      "cell_type": "code",
      "source": [
        "# Multiple inheritance - A child class inherits from more than one parent class\n",
        "\n",
        "# child relationship with one mother one father\n",
        "\n",
        "class Parent1:\n",
        "  def feature1(self):\n",
        "    print(\"Feature from parent 1\")\n",
        "\n",
        "class Parent2:\n",
        "  def feature2(self):\n",
        "    print(\"Feature from parent 2\")\n",
        "\n",
        "class Child(Parent1,Parent2):\n",
        "  def display(self):\n",
        "    print(\"child class with multiple inheritance\")"
      ],
      "metadata": {
        "id": "8c9__vi1_rI-"
      },
      "execution_count": null,
      "outputs": []
    },
    {
      "cell_type": "code",
      "source": [
        "obj = Child()  # child class object"
      ],
      "metadata": {
        "id": "EzP7FhV1Dmnb"
      },
      "execution_count": null,
      "outputs": []
    },
    {
      "cell_type": "code",
      "source": [
        "obj.feature1() # it can access parent1 method"
      ],
      "metadata": {
        "colab": {
          "base_uri": "https://localhost:8080/"
        },
        "id": "ud7ufn6gDpPj",
        "outputId": "0df647fd-8972-4902-8069-b34dea58a2b0"
      },
      "execution_count": null,
      "outputs": [
        {
          "output_type": "stream",
          "name": "stdout",
          "text": [
            "Feature from parent 1\n"
          ]
        }
      ]
    },
    {
      "cell_type": "code",
      "source": [
        "obj.feature2() # it can parent2 method"
      ],
      "metadata": {
        "colab": {
          "base_uri": "https://localhost:8080/"
        },
        "id": "gT0YsHLZDshL",
        "outputId": "1d02dce2-e383-4668-8bec-2753053d42ab"
      },
      "execution_count": null,
      "outputs": [
        {
          "output_type": "stream",
          "name": "stdout",
          "text": [
            "Feature from parent 2\n"
          ]
        }
      ]
    },
    {
      "cell_type": "code",
      "source": [
        "obj.display() # It can access its own method"
      ],
      "metadata": {
        "colab": {
          "base_uri": "https://localhost:8080/"
        },
        "id": "pRCMkJ5EDz-5",
        "outputId": "f1bca6bb-014b-49cb-9a54-f19e06a3bfd9"
      },
      "execution_count": null,
      "outputs": [
        {
          "output_type": "stream",
          "name": "stdout",
          "text": [
            "child class with multiple inheritance\n"
          ]
        }
      ]
    },
    {
      "cell_type": "code",
      "source": [
        "obj1 = Parent1()  # object of parent1 class"
      ],
      "metadata": {
        "id": "U_SfOPQDD7Gm"
      },
      "execution_count": null,
      "outputs": []
    },
    {
      "cell_type": "code",
      "source": [
        "obj1.feature1()  # it can access its own method"
      ],
      "metadata": {
        "colab": {
          "base_uri": "https://localhost:8080/"
        },
        "id": "pfLTzJJMEAlo",
        "outputId": "71d2e5a6-50b1-481b-acf6-55592c8e8fbe"
      },
      "execution_count": null,
      "outputs": [
        {
          "output_type": "stream",
          "name": "stdout",
          "text": [
            "Feature from parent 1\n"
          ]
        }
      ]
    },
    {
      "cell_type": "code",
      "source": [
        "obj1.feature2() # parent1 class can' t access the method of parent2 class"
      ],
      "metadata": {
        "colab": {
          "base_uri": "https://localhost:8080/",
          "height": 146
        },
        "id": "lz-qfFLUEELz",
        "outputId": "0381851a-72d1-4679-e948-405a3fc6482f"
      },
      "execution_count": null,
      "outputs": [
        {
          "output_type": "error",
          "ename": "AttributeError",
          "evalue": "'Parent1' object has no attribute 'feature2'",
          "traceback": [
            "\u001b[0;31m---------------------------------------------------------------------------\u001b[0m",
            "\u001b[0;31mAttributeError\u001b[0m                            Traceback (most recent call last)",
            "\u001b[0;32m<ipython-input-23-3a57424f644e>\u001b[0m in \u001b[0;36m<cell line: 0>\u001b[0;34m()\u001b[0m\n\u001b[0;32m----> 1\u001b[0;31m \u001b[0mobj1\u001b[0m\u001b[0;34m.\u001b[0m\u001b[0mfeature2\u001b[0m\u001b[0;34m(\u001b[0m\u001b[0;34m)\u001b[0m\u001b[0;34m\u001b[0m\u001b[0;34m\u001b[0m\u001b[0m\n\u001b[0m",
            "\u001b[0;31mAttributeError\u001b[0m: 'Parent1' object has no attribute 'feature2'"
          ]
        }
      ]
    },
    {
      "cell_type": "code",
      "source": [
        "obj1.display() # parent1 class can't accesss the method of child class"
      ],
      "metadata": {
        "colab": {
          "base_uri": "https://localhost:8080/",
          "height": 146
        },
        "id": "e-wOpAFjEOYo",
        "outputId": "66016ca9-3158-478b-886d-825133edf2f5"
      },
      "execution_count": null,
      "outputs": [
        {
          "output_type": "error",
          "ename": "AttributeError",
          "evalue": "'Parent1' object has no attribute 'display'",
          "traceback": [
            "\u001b[0;31m---------------------------------------------------------------------------\u001b[0m",
            "\u001b[0;31mAttributeError\u001b[0m                            Traceback (most recent call last)",
            "\u001b[0;32m<ipython-input-22-55e8faf5df54>\u001b[0m in \u001b[0;36m<cell line: 0>\u001b[0;34m()\u001b[0m\n\u001b[0;32m----> 1\u001b[0;31m \u001b[0mobj1\u001b[0m\u001b[0;34m.\u001b[0m\u001b[0mdisplay\u001b[0m\u001b[0;34m(\u001b[0m\u001b[0;34m)\u001b[0m\u001b[0;34m\u001b[0m\u001b[0;34m\u001b[0m\u001b[0m\n\u001b[0m",
            "\u001b[0;31mAttributeError\u001b[0m: 'Parent1' object has no attribute 'display'"
          ]
        }
      ]
    },
    {
      "cell_type": "code",
      "source": [
        "# Multilevel inheritance\n",
        "\n",
        "# A child class inherits from a parent class,\n",
        "# and the parent class itself inherits from their parent class(grand parent)\n",
        "\n",
        "\n",
        "# grandfather -> parent -> child\n",
        "\n",
        "\n",
        "class GrandParent:\n",
        "  def feature1(self):\n",
        "    print(\"Feature from grandparent\")\n",
        "\n",
        "class Parent(GrandParent):\n",
        "  def feature2(self):\n",
        "    print(\"Features from parent\")\n",
        "\n",
        "class child(Parent):\n",
        "  def display(self):\n",
        "    GrandParent.feature1(self)\n",
        "    Parent.feature2(self)\n",
        "    print(\"feature from child\")"
      ],
      "metadata": {
        "id": "heZjH5GGEOke"
      },
      "execution_count": null,
      "outputs": []
    },
    {
      "cell_type": "code",
      "source": [
        "obj = child() # object for child class\n",
        "\n",
        "obj.feature1() # calling the method of gp class through child class object\n"
      ],
      "metadata": {
        "colab": {
          "base_uri": "https://localhost:8080/"
        },
        "id": "NZrfFGYOHITg",
        "outputId": "f05e7fc3-8ecd-4003-9fa8-865b006b42d0"
      },
      "execution_count": null,
      "outputs": [
        {
          "output_type": "stream",
          "name": "stdout",
          "text": [
            "Feature from grandparent\n"
          ]
        }
      ]
    },
    {
      "cell_type": "code",
      "source": [
        "obj.feature2()"
      ],
      "metadata": {
        "colab": {
          "base_uri": "https://localhost:8080/"
        },
        "id": "gOJtlnM_HUuP",
        "outputId": "e88ea801-6db3-4254-c137-e9605e5c8828"
      },
      "execution_count": null,
      "outputs": [
        {
          "output_type": "stream",
          "name": "stdout",
          "text": [
            "Features from parent\n"
          ]
        }
      ]
    },
    {
      "cell_type": "code",
      "source": [
        "obj.display()"
      ],
      "metadata": {
        "colab": {
          "base_uri": "https://localhost:8080/"
        },
        "id": "yTBfwGZMHaFV",
        "outputId": "1bdd14d2-d78e-4bfd-f7ab-795bdf513d74"
      },
      "execution_count": null,
      "outputs": [
        {
          "output_type": "stream",
          "name": "stdout",
          "text": [
            "Feature from grandparent\n",
            "Features from parent\n",
            "feature from child\n"
          ]
        }
      ]
    },
    {
      "cell_type": "code",
      "source": [
        "obj1 = Parent()\n",
        "\n",
        "obj1.feature1()"
      ],
      "metadata": {
        "colab": {
          "base_uri": "https://localhost:8080/"
        },
        "id": "kpBaXa3fHdrT",
        "outputId": "ca71f5b1-0d13-48c7-b1e7-2f0f201fc751"
      },
      "execution_count": null,
      "outputs": [
        {
          "output_type": "stream",
          "name": "stdout",
          "text": [
            "Feature from grandparent\n"
          ]
        }
      ]
    },
    {
      "cell_type": "code",
      "source": [
        "obj1.display()"
      ],
      "metadata": {
        "colab": {
          "base_uri": "https://localhost:8080/",
          "height": 146
        },
        "id": "mZD3vbQDI86u",
        "outputId": "fe27f9b2-9d63-4720-e879-6e16800c9d1a"
      },
      "execution_count": null,
      "outputs": [
        {
          "output_type": "error",
          "ename": "AttributeError",
          "evalue": "'Parent' object has no attribute 'display'",
          "traceback": [
            "\u001b[0;31m---------------------------------------------------------------------------\u001b[0m",
            "\u001b[0;31mAttributeError\u001b[0m                            Traceback (most recent call last)",
            "\u001b[0;32m<ipython-input-37-55e8faf5df54>\u001b[0m in \u001b[0;36m<cell line: 0>\u001b[0;34m()\u001b[0m\n\u001b[0;32m----> 1\u001b[0;31m \u001b[0mobj1\u001b[0m\u001b[0;34m.\u001b[0m\u001b[0mdisplay\u001b[0m\u001b[0;34m(\u001b[0m\u001b[0;34m)\u001b[0m\u001b[0;34m\u001b[0m\u001b[0;34m\u001b[0m\u001b[0m\n\u001b[0m",
            "\u001b[0;31mAttributeError\u001b[0m: 'Parent' object has no attribute 'display'"
          ]
        }
      ]
    },
    {
      "cell_type": "code",
      "source": [
        "# hierarchial inheritance\n",
        "\n",
        "# multiple child class inherit from a single parent class\n",
        "\n",
        "# parent -> child1 , child2 (child1 and child2 inheriting from a single parent)\n",
        "\n",
        "\n",
        "class parent:\n",
        "  def feature(self):\n",
        "    print(\"feature from parent\")\n",
        "\n",
        "class child1(parent):\n",
        "  def feature1(self):\n",
        "    print(\"feature from child1\")\n",
        "\n",
        "class child2(parent):\n",
        "  def feature2(self):\n",
        "    print(\"feature from child2\")"
      ],
      "metadata": {
        "id": "woUOZKvTJLXX"
      },
      "execution_count": null,
      "outputs": []
    },
    {
      "cell_type": "code",
      "source": [
        "obj1 = child1() # object for child1 class"
      ],
      "metadata": {
        "id": "yBiPinMnKSB-"
      },
      "execution_count": null,
      "outputs": []
    },
    {
      "cell_type": "code",
      "source": [
        "obj1.feature()"
      ],
      "metadata": {
        "colab": {
          "base_uri": "https://localhost:8080/"
        },
        "id": "wBJpJlQ_KUml",
        "outputId": "84fdf8b1-9758-427c-a814-ce00ecbd210d"
      },
      "execution_count": null,
      "outputs": [
        {
          "output_type": "stream",
          "name": "stdout",
          "text": [
            "feature from parent\n"
          ]
        }
      ]
    },
    {
      "cell_type": "code",
      "source": [
        "obj1.feature2()"
      ],
      "metadata": {
        "colab": {
          "base_uri": "https://localhost:8080/",
          "height": 146
        },
        "id": "hwymA3ApKd4_",
        "outputId": "ce0c1482-3d50-4575-aa45-285e0b08dc47"
      },
      "execution_count": null,
      "outputs": [
        {
          "output_type": "error",
          "ename": "AttributeError",
          "evalue": "'child1' object has no attribute 'feature2'",
          "traceback": [
            "\u001b[0;31m---------------------------------------------------------------------------\u001b[0m",
            "\u001b[0;31mAttributeError\u001b[0m                            Traceback (most recent call last)",
            "\u001b[0;32m<ipython-input-41-3a57424f644e>\u001b[0m in \u001b[0;36m<cell line: 0>\u001b[0;34m()\u001b[0m\n\u001b[0;32m----> 1\u001b[0;31m \u001b[0mobj1\u001b[0m\u001b[0;34m.\u001b[0m\u001b[0mfeature2\u001b[0m\u001b[0;34m(\u001b[0m\u001b[0;34m)\u001b[0m\u001b[0;34m\u001b[0m\u001b[0;34m\u001b[0m\u001b[0m\n\u001b[0m",
            "\u001b[0;31mAttributeError\u001b[0m: 'child1' object has no attribute 'feature2'"
          ]
        }
      ]
    },
    {
      "cell_type": "code",
      "source": [
        "obj1.feature1()"
      ],
      "metadata": {
        "colab": {
          "base_uri": "https://localhost:8080/"
        },
        "id": "9n-_Ox8PKlbr",
        "outputId": "ccbac932-7bc6-409b-e204-36b03accbb73"
      },
      "execution_count": null,
      "outputs": [
        {
          "output_type": "stream",
          "name": "stdout",
          "text": [
            "feature from child1\n"
          ]
        }
      ]
    },
    {
      "cell_type": "code",
      "source": [
        "obj2 = child2()"
      ],
      "metadata": {
        "id": "ErhecTmFKv2t"
      },
      "execution_count": null,
      "outputs": []
    },
    {
      "cell_type": "code",
      "source": [
        "obj2.feature2()"
      ],
      "metadata": {
        "colab": {
          "base_uri": "https://localhost:8080/"
        },
        "id": "vClGs6xHLc9f",
        "outputId": "5294797a-e3ad-44e2-ae5c-9893fd62ebab"
      },
      "execution_count": null,
      "outputs": [
        {
          "output_type": "stream",
          "name": "stdout",
          "text": [
            "feature from child2\n"
          ]
        }
      ]
    },
    {
      "cell_type": "markdown",
      "source": [
        "# Encapsulation\n",
        "\n",
        "**wrapping up of the data members(attributes and methods) into one unit(capsule)**"
      ],
      "metadata": {
        "id": "fqWfyU8AOL0j"
      }
    },
    {
      "cell_type": "markdown",
      "source": [
        "we can implement it with the help of Access specifiers\n",
        "\n",
        "* public : data that everyone can access (simple attribute name)\n",
        "\n",
        "\n",
        "\n",
        "* protected: Data that only inherited class (child class) can access\n",
        "\n",
        "* we can use _nameOfAttribute (single underscore)\n",
        "\n",
        "* private : only accessible inside the class but not outside the class\n",
        "\n",
        "* we can use the class __nameOfAttribute (double underscore)\n",
        "\n",
        "\n",
        "* public attribute without underscore\n",
        "* it can be accessed inside the class , in the subclass , outside the class\n",
        "\n",
        "* protected attribute single underscore (_)\n",
        "* it can accessed inside the class , inside the subclass , outside the class but it should be avoided\n",
        "\n",
        "* private attribute double underscore(__)\n",
        "* It can be accesssed inside the class , but not accessible in subclass as well as outside the class"
      ],
      "metadata": {
        "id": "bGTmmLJ3OadH"
      }
    },
    {
      "cell_type": "code",
      "source": [
        "class Person:\n",
        "  def __init__(self,name,age,salary):\n",
        "    self.name = name # public data attribute\n",
        "    self._age = age # protected data attribute\n",
        "    self.__salary = salary # private data attribute\n",
        "\n",
        "  def display(self):\n",
        "    print(self.name)\n",
        "    print(self._age)\n",
        "    print(self.__salary)\n"
      ],
      "metadata": {
        "id": "-fsz-a2gLgY3"
      },
      "execution_count": null,
      "outputs": []
    },
    {
      "cell_type": "code",
      "source": [
        "p1  = Person(\"Tulasi\",25,45000)"
      ],
      "metadata": {
        "id": "OrS70H2LQfFj"
      },
      "execution_count": null,
      "outputs": []
    },
    {
      "cell_type": "code",
      "source": [
        "print(p1.name)  # can be accessed inside and outside the class"
      ],
      "metadata": {
        "colab": {
          "base_uri": "https://localhost:8080/"
        },
        "id": "-sYe3VeDQrer",
        "outputId": "da02a52e-c816-41d9-a670-9b1856c78f79"
      },
      "execution_count": null,
      "outputs": [
        {
          "output_type": "stream",
          "name": "stdout",
          "text": [
            "Tulasi\n"
          ]
        }
      ]
    },
    {
      "cell_type": "code",
      "source": [
        "print(p1._age)  # can be accessed inside the class and its child"
      ],
      "metadata": {
        "colab": {
          "base_uri": "https://localhost:8080/"
        },
        "id": "KSkLxbmbQvUK",
        "outputId": "298ab3a7-a16d-4e42-e7f2-bede81b1e5a4"
      },
      "execution_count": null,
      "outputs": [
        {
          "output_type": "stream",
          "name": "stdout",
          "text": [
            "25\n"
          ]
        }
      ]
    },
    {
      "cell_type": "code",
      "source": [
        "print(p1.__salary)  # private attribute cannot be accessed outside the class\n",
        "\n",
        "# private attribute can only be accessed inside the class"
      ],
      "metadata": {
        "colab": {
          "base_uri": "https://localhost:8080/",
          "height": 182
        },
        "id": "hAjwnTXiQwzF",
        "outputId": "b1d53752-0401-43e6-ae91-1dfc1bd44c20"
      },
      "execution_count": null,
      "outputs": [
        {
          "output_type": "error",
          "ename": "AttributeError",
          "evalue": "'Person' object has no attribute '__salary'",
          "traceback": [
            "\u001b[0;31m---------------------------------------------------------------------------\u001b[0m",
            "\u001b[0;31mAttributeError\u001b[0m                            Traceback (most recent call last)",
            "\u001b[0;32m<ipython-input-51-91188d237ddf>\u001b[0m in \u001b[0;36m<cell line: 0>\u001b[0;34m()\u001b[0m\n\u001b[0;32m----> 1\u001b[0;31m \u001b[0mprint\u001b[0m\u001b[0;34m(\u001b[0m\u001b[0mp1\u001b[0m\u001b[0;34m.\u001b[0m\u001b[0m__salary\u001b[0m\u001b[0;34m)\u001b[0m  \u001b[0;31m# private attribute cannot be accessed outside the class\u001b[0m\u001b[0;34m\u001b[0m\u001b[0;34m\u001b[0m\u001b[0m\n\u001b[0m\u001b[1;32m      2\u001b[0m \u001b[0;34m\u001b[0m\u001b[0m\n\u001b[1;32m      3\u001b[0m \u001b[0;31m# private attribute can only be accessed inside the class\u001b[0m\u001b[0;34m\u001b[0m\u001b[0;34m\u001b[0m\u001b[0m\n",
            "\u001b[0;31mAttributeError\u001b[0m: 'Person' object has no attribute '__salary'"
          ]
        }
      ]
    },
    {
      "cell_type": "code",
      "source": [
        "p1.display()"
      ],
      "metadata": {
        "colab": {
          "base_uri": "https://localhost:8080/"
        },
        "id": "kptssO7CQ1nB",
        "outputId": "a7469557-02f4-493e-997c-d3a37c64c5ae"
      },
      "execution_count": null,
      "outputs": [
        {
          "output_type": "stream",
          "name": "stdout",
          "text": [
            "Tulasi\n",
            "25\n",
            "45000\n"
          ]
        }
      ]
    },
    {
      "cell_type": "code",
      "source": [
        "class Person:\n",
        "  def __init__(self,name,age,salary):\n",
        "    self.name = name # public data attribute\n",
        "    self._age = age # protected data attribute\n",
        "    self.__salary = salary # private data attribute\n",
        "\n",
        "  def get_salary(self):\n",
        "    return self.__salary\n",
        "\n",
        "  def set_salary(self,new_salary):\n",
        "    if new_salary > 0:\n",
        "      self.__salary = new_salary\n",
        "      print(f\"salary updated to : {self.__salary}\")\n",
        "    else:\n",
        "      print(\"Invalid salary amount\")\n",
        "\n",
        "\n",
        "\n",
        "\n"
      ],
      "metadata": {
        "id": "NDIhfR4USS1U"
      },
      "execution_count": null,
      "outputs": []
    },
    {
      "cell_type": "code",
      "source": [
        "p1  = Person(\"Tulasi\",25,45000)"
      ],
      "metadata": {
        "id": "To3uPQXlSg_z"
      },
      "execution_count": null,
      "outputs": []
    },
    {
      "cell_type": "code",
      "source": [
        "p1.get_salary()"
      ],
      "metadata": {
        "colab": {
          "base_uri": "https://localhost:8080/"
        },
        "id": "ZboEglhXSjOr",
        "outputId": "b9bfb24a-68a9-48b1-db6c-741a88be604a"
      },
      "execution_count": null,
      "outputs": [
        {
          "output_type": "execute_result",
          "data": {
            "text/plain": [
              "45000"
            ]
          },
          "metadata": {},
          "execution_count": 22
        }
      ]
    },
    {
      "cell_type": "code",
      "source": [
        "p1.set_salary(50000)"
      ],
      "metadata": {
        "colab": {
          "base_uri": "https://localhost:8080/"
        },
        "id": "8qzp0fW3TXy4",
        "outputId": "eeafd966-cd4d-4843-fe91-257a2c46961a"
      },
      "execution_count": null,
      "outputs": [
        {
          "output_type": "stream",
          "name": "stdout",
          "text": [
            "salary updated to : 50000\n"
          ]
        }
      ]
    },
    {
      "cell_type": "code",
      "source": [
        "p1.set_salary(-1)"
      ],
      "metadata": {
        "colab": {
          "base_uri": "https://localhost:8080/"
        },
        "id": "E3HeK4waTiQL",
        "outputId": "e814f653-e026-4598-c06e-bb1b4a06011f"
      },
      "execution_count": null,
      "outputs": [
        {
          "output_type": "stream",
          "name": "stdout",
          "text": [
            "Invalid salary amount\n"
          ]
        }
      ]
    },
    {
      "cell_type": "markdown",
      "source": [
        "# Polymorphism"
      ],
      "metadata": {
        "id": "QgT2cnA6F2ku"
      }
    },
    {
      "cell_type": "markdown",
      "source": [
        "It allows objects of different classes to be treated as objects of a common super class it enables interface to be used for different types"
      ],
      "metadata": {
        "id": "rxTVIPDBGYBC"
      }
    },
    {
      "cell_type": "code",
      "source": [
        "class Vehicle:\n",
        "  def start_engine(self):\n",
        "    print(\"starting the engine of a speicific vehicle\")\n",
        "\n",
        "class Car(Vehicle):\n",
        "  def start_engine(self):\n",
        "    print(\"Turning the ignition key in the car\")\n",
        "\n",
        "class Bike(Vehicle):\n",
        "  def start_engine(self):\n",
        "    print(\"pressing the start button on the bike\")\n",
        "\n",
        "class Truck(Vehicle):\n",
        "  def start_engine(self):\n",
        "    print(\"flipping the iginition switch on the truck\")"
      ],
      "metadata": {
        "id": "K75cgIF3Sm9q"
      },
      "execution_count": null,
      "outputs": []
    },
    {
      "cell_type": "code",
      "source": [
        "v = Vehicle()"
      ],
      "metadata": {
        "id": "x93NOCRnIIfx"
      },
      "execution_count": null,
      "outputs": []
    },
    {
      "cell_type": "code",
      "source": [
        "c = Car()"
      ],
      "metadata": {
        "id": "N-Hrfp2fIMwk"
      },
      "execution_count": null,
      "outputs": []
    },
    {
      "cell_type": "code",
      "source": [
        "b = Bike()"
      ],
      "metadata": {
        "id": "TQ-63UzFIPs6"
      },
      "execution_count": null,
      "outputs": []
    },
    {
      "cell_type": "code",
      "source": [
        "t = Truck()"
      ],
      "metadata": {
        "id": "YLgjFoOCIRGZ"
      },
      "execution_count": null,
      "outputs": []
    },
    {
      "cell_type": "code",
      "source": [
        "v.start_engine()"
      ],
      "metadata": {
        "colab": {
          "base_uri": "https://localhost:8080/"
        },
        "id": "vrLUWn1WIS03",
        "outputId": "1018f756-0dd8-41a2-9956-2945336138e6"
      },
      "execution_count": null,
      "outputs": [
        {
          "output_type": "stream",
          "name": "stdout",
          "text": [
            "starting the engine of a speicific vehicle\n"
          ]
        }
      ]
    },
    {
      "cell_type": "code",
      "source": [
        "c.start_engine()"
      ],
      "metadata": {
        "colab": {
          "base_uri": "https://localhost:8080/"
        },
        "id": "5jeguNaPIXC2",
        "outputId": "9f274bd5-0b3e-4f36-f6a9-93a7be181654"
      },
      "execution_count": null,
      "outputs": [
        {
          "output_type": "stream",
          "name": "stdout",
          "text": [
            "Turning the ignition key in the car\n"
          ]
        }
      ]
    },
    {
      "cell_type": "code",
      "source": [
        "b.start_engine()"
      ],
      "metadata": {
        "colab": {
          "base_uri": "https://localhost:8080/"
        },
        "id": "AcSyNw_5IcSI",
        "outputId": "6fd21bb8-0210-497d-efc3-898d2225ce91"
      },
      "execution_count": null,
      "outputs": [
        {
          "output_type": "stream",
          "name": "stdout",
          "text": [
            "pressing the start button on the bike\n"
          ]
        }
      ]
    },
    {
      "cell_type": "code",
      "source": [
        "t.start_engine()"
      ],
      "metadata": {
        "colab": {
          "base_uri": "https://localhost:8080/"
        },
        "id": "l8AfwG7_IgGK",
        "outputId": "6c182f0a-c63b-4801-d67b-74cfaac1ae17"
      },
      "execution_count": null,
      "outputs": [
        {
          "output_type": "stream",
          "name": "stdout",
          "text": [
            "flipping the iginition switch on the truck\n"
          ]
        }
      ]
    },
    {
      "cell_type": "code",
      "source": [
        "class paymentmethod:\n",
        "  def process_payment(self,amount):\n",
        "    print(f\"processing the payment of {amount}\")\n",
        "\n",
        "class credit_card(paymentmethod):\n",
        "  def process_payment(self,amount):\n",
        "    print(f\"processing credit card payment of {amount}\")\n",
        "\n",
        "class paypal(paymentmethod):\n",
        "  def process_payment(self,amount):\n",
        "    print(f\"processing paypal payment of {amount}\")\n",
        "\n"
      ],
      "metadata": {
        "id": "NTtOLJHZIjDw"
      },
      "execution_count": null,
      "outputs": []
    },
    {
      "cell_type": "code",
      "source": [
        "payment = paymentmethod()"
      ],
      "metadata": {
        "id": "sj3KiPr3KCV6"
      },
      "execution_count": null,
      "outputs": []
    },
    {
      "cell_type": "code",
      "source": [
        "payment.process_payment(200)"
      ],
      "metadata": {
        "colab": {
          "base_uri": "https://localhost:8080/"
        },
        "id": "3FgppjXiKNM4",
        "outputId": "6376fe54-7558-44a5-bcde-11503e116eda"
      },
      "execution_count": null,
      "outputs": [
        {
          "output_type": "stream",
          "name": "stdout",
          "text": [
            "processing the payment of 200\n"
          ]
        }
      ]
    },
    {
      "cell_type": "code",
      "source": [
        "creditcard = credit_card()"
      ],
      "metadata": {
        "id": "n36xumJtKRcR"
      },
      "execution_count": null,
      "outputs": []
    },
    {
      "cell_type": "code",
      "source": [
        "creditcard.process_payment(300)"
      ],
      "metadata": {
        "colab": {
          "base_uri": "https://localhost:8080/"
        },
        "id": "d7Uahks6KWbD",
        "outputId": "663bd98b-cbe2-49db-dfe3-d58b1978cd29"
      },
      "execution_count": null,
      "outputs": [
        {
          "output_type": "stream",
          "name": "stdout",
          "text": [
            "processing credit card payment of 300\n"
          ]
        }
      ]
    },
    {
      "cell_type": "markdown",
      "source": [
        "# Abstraction"
      ],
      "metadata": {
        "id": "eB2HPkmUKvuL"
      }
    },
    {
      "cell_type": "markdown",
      "source": [
        "* It involves hiding the internal implementation details of a class and exposing only the necessary functionality through a simplified interface\n",
        "\n",
        "* It will hide the unnecessary data (method / attributes)"
      ],
      "metadata": {
        "id": "orkZLKu7Lc75"
      }
    },
    {
      "cell_type": "markdown",
      "source": [
        "* ABC - Abstract Base class\n",
        "\n",
        "* it is used to define a template for classes that should not be instantiated directly\n",
        "\n",
        "* abstarctmethod is a decorator that marks a method as abstract\n",
        "\n",
        "* abstarct method must be implemented in the child class ; otherwisse , the program will raise an error"
      ],
      "metadata": {
        "id": "0O71hkRXMlpy"
      }
    },
    {
      "cell_type": "code",
      "source": [
        "from abc import ABC, abstractmethod\n",
        "\n",
        "class RemoteControl(ABC):\n",
        "\n",
        "  @abstractmethod\n",
        "  def turn_on(self):\n",
        "    pass\n",
        "\n",
        "  @abstractmethod\n",
        "  def turn_off(self):\n",
        "    pass\n",
        "\n",
        "\n",
        "class TVRemote(RemoteControl):\n",
        "  def turn_on(self):\n",
        "    print(\"TV is now on\")\n",
        "\n",
        "  def turn_off(self):\n",
        "    print(\"TV is now off\")\n"
      ],
      "metadata": {
        "id": "6M_bIG6PKYCd"
      },
      "execution_count": null,
      "outputs": []
    },
    {
      "cell_type": "code",
      "source": [
        "remote = TVRemote()"
      ],
      "metadata": {
        "id": "ZRXH1cZuPZnI"
      },
      "execution_count": null,
      "outputs": []
    },
    {
      "cell_type": "code",
      "source": [
        "remote.turn_on()"
      ],
      "metadata": {
        "colab": {
          "base_uri": "https://localhost:8080/"
        },
        "id": "gsYqyd_HPeqz",
        "outputId": "5037d149-8c3d-4970-84ea-553a73e9e102"
      },
      "execution_count": null,
      "outputs": [
        {
          "output_type": "stream",
          "name": "stdout",
          "text": [
            "TV is now on\n"
          ]
        }
      ]
    },
    {
      "cell_type": "code",
      "source": [
        "remote.turn_off()"
      ],
      "metadata": {
        "colab": {
          "base_uri": "https://localhost:8080/"
        },
        "id": "yKvcbyo0Pi4u",
        "outputId": "8d822a00-dbb2-4089-cc7e-f084545593a8"
      },
      "execution_count": null,
      "outputs": [
        {
          "output_type": "stream",
          "name": "stdout",
          "text": [
            "TV is now off\n"
          ]
        }
      ]
    },
    {
      "cell_type": "code",
      "source": [
        "obj = RemoteControl()"
      ],
      "metadata": {
        "colab": {
          "base_uri": "https://localhost:8080/",
          "height": 158
        },
        "id": "tU7bKFtnPlqm",
        "outputId": "08e70f22-c00a-4c96-f1ad-2c53fe648c56"
      },
      "execution_count": null,
      "outputs": [
        {
          "output_type": "error",
          "ename": "TypeError",
          "evalue": "Can't instantiate abstract class RemoteControl with abstract methods turn_off, turn_on",
          "traceback": [
            "\u001b[0;31m---------------------------------------------------------------------------\u001b[0m",
            "\u001b[0;31mTypeError\u001b[0m                                 Traceback (most recent call last)",
            "\u001b[0;32m<ipython-input-19-68a3427fc1d5>\u001b[0m in \u001b[0;36m<cell line: 0>\u001b[0;34m()\u001b[0m\n\u001b[0;32m----> 1\u001b[0;31m \u001b[0mobj\u001b[0m \u001b[0;34m=\u001b[0m \u001b[0mRemoteControl\u001b[0m\u001b[0;34m(\u001b[0m\u001b[0;34m)\u001b[0m\u001b[0;34m\u001b[0m\u001b[0;34m\u001b[0m\u001b[0m\n\u001b[0m",
            "\u001b[0;31mTypeError\u001b[0m: Can't instantiate abstract class RemoteControl with abstract methods turn_off, turn_on"
          ]
        }
      ]
    },
    {
      "cell_type": "markdown",
      "source": [
        "Define Teacher and Researcher, both with work(). Create Professor inheriting both.\n",
        "\n"
      ],
      "metadata": {
        "id": "i46pojNGWilj"
      }
    },
    {
      "cell_type": "code",
      "source": [
        "class Teacher:\n",
        "  def work(self):\n",
        "    print(\"Teaching Students\")\n",
        "\n",
        "class Researcher:\n",
        "  def work(self):\n",
        "    print(\"conducting Reaserach\")\n",
        "\n",
        "class Professor(Teacher,Researcher):\n",
        "  def work(self):\n",
        "    super().work()  # calls the teacher's work method\n",
        "    Researcher.work(self) # calls researcher's method\n"
      ],
      "metadata": {
        "id": "Q5wHwhecP0oC"
      },
      "execution_count": null,
      "outputs": []
    },
    {
      "cell_type": "code",
      "source": [
        "prof = Professor()"
      ],
      "metadata": {
        "id": "Fty_Rd4NaPf0"
      },
      "execution_count": null,
      "outputs": []
    },
    {
      "cell_type": "code",
      "source": [
        "prof.work()"
      ],
      "metadata": {
        "colab": {
          "base_uri": "https://localhost:8080/"
        },
        "id": "HewjZuBAaTEQ",
        "outputId": "68ff438b-5b59-466d-af2e-dded9916dd66"
      },
      "execution_count": null,
      "outputs": [
        {
          "output_type": "stream",
          "name": "stdout",
          "text": [
            "Teaching Students\n",
            "conducting Reaserach\n"
          ]
        }
      ]
    },
    {
      "cell_type": "markdown",
      "source": [
        "Design a BankAccount class with attributes: account_holder, balance. Implement methods for deposit(amount), withdraw(amount), and get_balance(). Ensure that withdrawals do not allow the balance to go negative."
      ],
      "metadata": {
        "id": "3THognH4a3QC"
      }
    },
    {
      "cell_type": "markdown",
      "source": [
        "Create an abstract Shape class with an area() method. Implement Rectangle and Circle."
      ],
      "metadata": {
        "id": "rS8JD2i2bAo_"
      }
    },
    {
      "cell_type": "markdown",
      "source": [
        "Create Person, Student, and Teacher classes. Implement a function display_info() that works for all."
      ],
      "metadata": {
        "id": "BWOm31oTbE4z"
      }
    },
    {
      "cell_type": "markdown",
      "source": [
        "Create an Employee class with attributes: name, _age (protected), and __salary (private). Implement methods get_salary() and set_salary(new_salary), ensuring the new salary is not negative."
      ],
      "metadata": {
        "id": "1H0Yksu9bKAN"
      }
    },
    {
      "cell_type": "code",
      "source": [],
      "metadata": {
        "id": "NZH8KX5yaU06"
      },
      "execution_count": null,
      "outputs": []
    }
  ]
}